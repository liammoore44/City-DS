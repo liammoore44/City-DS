{
 "cells": [
  {
   "attachments": {},
   "cell_type": "markdown",
   "metadata": {},
   "source": [
    "Notebook structure to serve as a template for all other matches. Should read in data, synchronize event and tracking feeds then run pitch control for frames per event"
   ]
  },
  {
   "cell_type": "code",
   "execution_count": 1,
   "metadata": {},
   "outputs": [],
   "source": [
    "%load_ext autoreload\n",
    "%autoreload 2"
   ]
  },
  {
   "cell_type": "code",
   "execution_count": 119,
   "metadata": {},
   "outputs": [],
   "source": [
    "import pandas as pd\n",
    "import os\n",
    "import json\n",
    "import numpy as np\n",
    "import socceraction.spadl as spadl\n",
    "import socceraction.xthreat as xthreat\n",
    "import matplotsoccer as mps\n",
    "import numpy as np\n",
    "import matplotlib.pyplot as plt\n",
    "from scipy.optimize import fsolve\n",
    "import pandas as pd\n",
    "from kloppy import secondspectrum\n",
    "import pickle\n",
    "import sys\n",
    " \n",
    "# setting path\n",
    "sys.path.append('../')\n",
    " \n",
    "# # importing\n",
    "from src.second_spectrum_utils import get_home_away_tracking\n",
    "import src.player_velocities as vel\n",
    "import src.pitch_control as pc\n",
    "import src.visualizations as viz\n",
    "\n",
    "import src.statsbomb_util as sb"
   ]
  },
  {
   "cell_type": "code",
   "execution_count": 120,
   "metadata": {},
   "outputs": [],
   "source": [
    "META_PATH = \"../man-city-data/SecondSpectrum/MCI Women_s Files-001/g2312213_SecondSpectrum_meta.xml\"\n",
    "RAW_PATH = \"../man-city-data/SecondSpectrum/MCI Women_s Files-001/g2312213_SecondSpectrum_tracking-produced.jsonl\"\n",
    "EVENT_PATH = \"../man-city-data/StatsBomb/Data/ManCity_Tottenham_events.json\"\n",
    "\n",
    "PARAMS = pc.parameters()"
   ]
  },
  {
   "cell_type": "code",
   "execution_count": 71,
   "metadata": {},
   "outputs": [],
   "source": [
    "dataset = secondspectrum.load(\n",
    "    meta_data=META_PATH,\n",
    "    raw_data=RAW_PATH,\n",
    "    \n",
    "    # Optional arguments\n",
    "    sample_rate=1/1,\n",
    "    coordinates=\"secondspectrum\",\n",
    "    only_alive=False)"
   ]
  },
  {
   "cell_type": "code",
   "execution_count": 140,
   "metadata": {},
   "outputs": [],
   "source": [
    "dataset_alive = secondspectrum.load(\n",
    "    meta_data=META_PATH,\n",
    "    raw_data=RAW_PATH,\n",
    "    \n",
    "    # Optional arguments\n",
    "    sample_rate=1/1,\n",
    "    coordinates=\"secondspectrum\",\n",
    "    only_alive=True)"
   ]
  },
  {
   "cell_type": "code",
   "execution_count": 73,
   "metadata": {},
   "outputs": [],
   "source": [
    "home_df, away_df = get_home_away_tracking(dataset)\n",
    "tracking_home = vel.calc_player_velocities(home_df,smoothing=True,filter_='moving_average')\n",
    "tracking_away = vel.calc_player_velocities(away_df,smoothing=True,filter_='moving_average')"
   ]
  },
  {
   "cell_type": "code",
   "execution_count": 157,
   "metadata": {},
   "outputs": [],
   "source": [
    "tracking_df = dataset_alive.to_df()"
   ]
  },
  {
   "cell_type": "code",
   "execution_count": 158,
   "metadata": {},
   "outputs": [],
   "source": [
    "tracking_df = tracking_df[['period_id','timestamp','frame_id','ball_state','ball_owning_team_id']]\n",
    "tracking_df = tracking_df.rename(columns={'timestamp': 'time_sec'})"
   ]
  },
  {
   "cell_type": "code",
   "execution_count": 159,
   "metadata": {},
   "outputs": [],
   "source": [
    "event_data = pd.read_json(EVENT_PATH)\n",
    "event_df = sb.rename_cols(sb.normalize_dataframe(event_data))"
   ]
  },
  {
   "cell_type": "code",
   "execution_count": 160,
   "metadata": {},
   "outputs": [],
   "source": [
    "event_df = sb.normalize_time_column(event_df)"
   ]
  },
  {
   "cell_type": "code",
   "execution_count": 161,
   "metadata": {},
   "outputs": [
    {
     "data": {
      "text/html": [
       "<div>\n",
       "<style scoped>\n",
       "    .dataframe tbody tr th:only-of-type {\n",
       "        vertical-align: middle;\n",
       "    }\n",
       "\n",
       "    .dataframe tbody tr th {\n",
       "        vertical-align: top;\n",
       "    }\n",
       "\n",
       "    .dataframe thead th {\n",
       "        text-align: right;\n",
       "    }\n",
       "</style>\n",
       "<table border=\"1\" class=\"dataframe\">\n",
       "  <thead>\n",
       "    <tr style=\"text-align: right;\">\n",
       "      <th></th>\n",
       "      <th>event_id</th>\n",
       "      <th>index</th>\n",
       "      <th>period_id</th>\n",
       "      <th>timestamp</th>\n",
       "      <th>minute</th>\n",
       "      <th>second</th>\n",
       "      <th>possession</th>\n",
       "      <th>obv_for_after</th>\n",
       "      <th>obv_for_before</th>\n",
       "      <th>obv_for_net</th>\n",
       "      <th>...</th>\n",
       "      <th>substitution_replacement_id</th>\n",
       "      <th>substitution_replacement_name</th>\n",
       "      <th>miscontrol_aerial_won</th>\n",
       "      <th>pass_cut_back</th>\n",
       "      <th>injury_stoppage_in_chain</th>\n",
       "      <th>shot_deflected</th>\n",
       "      <th>block_deflection</th>\n",
       "      <th>timestamp_shift</th>\n",
       "      <th>timediff</th>\n",
       "      <th>time</th>\n",
       "    </tr>\n",
       "  </thead>\n",
       "  <tbody>\n",
       "    <tr>\n",
       "      <th>4</th>\n",
       "      <td>b81dcf83-537d-4f17-8f34-abb38d2dce13</td>\n",
       "      <td>5</td>\n",
       "      <td>1</td>\n",
       "      <td>1681948800194</td>\n",
       "      <td>0</td>\n",
       "      <td>0</td>\n",
       "      <td>2</td>\n",
       "      <td>0.016658</td>\n",
       "      <td>0.006829</td>\n",
       "      <td>0.009830</td>\n",
       "      <td>...</td>\n",
       "      <td>NaN</td>\n",
       "      <td>NaN</td>\n",
       "      <td>NaN</td>\n",
       "      <td>NaN</td>\n",
       "      <td>NaN</td>\n",
       "      <td>NaN</td>\n",
       "      <td>NaN</td>\n",
       "      <td>1.681949e+12</td>\n",
       "      <td>0.194</td>\n",
       "      <td>0.19</td>\n",
       "    </tr>\n",
       "    <tr>\n",
       "      <th>6</th>\n",
       "      <td>45e144b9-05dc-4150-a4a9-c0662f6488d7</td>\n",
       "      <td>7</td>\n",
       "      <td>1</td>\n",
       "      <td>1681948801037</td>\n",
       "      <td>0</td>\n",
       "      <td>1</td>\n",
       "      <td>2</td>\n",
       "      <td>0.017105</td>\n",
       "      <td>0.016658</td>\n",
       "      <td>0.000447</td>\n",
       "      <td>...</td>\n",
       "      <td>NaN</td>\n",
       "      <td>NaN</td>\n",
       "      <td>NaN</td>\n",
       "      <td>NaN</td>\n",
       "      <td>NaN</td>\n",
       "      <td>NaN</td>\n",
       "      <td>NaN</td>\n",
       "      <td>1.681949e+12</td>\n",
       "      <td>0.000</td>\n",
       "      <td>1.04</td>\n",
       "    </tr>\n",
       "    <tr>\n",
       "      <th>7</th>\n",
       "      <td>621b03c3-79ce-48f6-a123-4ff7f92b0201</td>\n",
       "      <td>8</td>\n",
       "      <td>1</td>\n",
       "      <td>1681948801691</td>\n",
       "      <td>0</td>\n",
       "      <td>1</td>\n",
       "      <td>2</td>\n",
       "      <td>0.014085</td>\n",
       "      <td>0.017105</td>\n",
       "      <td>-0.003020</td>\n",
       "      <td>...</td>\n",
       "      <td>NaN</td>\n",
       "      <td>NaN</td>\n",
       "      <td>NaN</td>\n",
       "      <td>NaN</td>\n",
       "      <td>NaN</td>\n",
       "      <td>NaN</td>\n",
       "      <td>NaN</td>\n",
       "      <td>1.681949e+12</td>\n",
       "      <td>0.654</td>\n",
       "      <td>1.69</td>\n",
       "    </tr>\n",
       "    <tr>\n",
       "      <th>9</th>\n",
       "      <td>de02e35f-0740-481c-8e31-d6dd268a8377</td>\n",
       "      <td>10</td>\n",
       "      <td>1</td>\n",
       "      <td>1681948802903</td>\n",
       "      <td>0</td>\n",
       "      <td>2</td>\n",
       "      <td>2</td>\n",
       "      <td>0.014085</td>\n",
       "      <td>0.014085</td>\n",
       "      <td>0.000000</td>\n",
       "      <td>...</td>\n",
       "      <td>NaN</td>\n",
       "      <td>NaN</td>\n",
       "      <td>NaN</td>\n",
       "      <td>NaN</td>\n",
       "      <td>NaN</td>\n",
       "      <td>NaN</td>\n",
       "      <td>NaN</td>\n",
       "      <td>1.681949e+12</td>\n",
       "      <td>0.000</td>\n",
       "      <td>2.90</td>\n",
       "    </tr>\n",
       "    <tr>\n",
       "      <th>10</th>\n",
       "      <td>2f318aa7-799f-48ba-b8ca-3015600cb591</td>\n",
       "      <td>11</td>\n",
       "      <td>1</td>\n",
       "      <td>1681948803965</td>\n",
       "      <td>0</td>\n",
       "      <td>3</td>\n",
       "      <td>2</td>\n",
       "      <td>0.012647</td>\n",
       "      <td>0.014085</td>\n",
       "      <td>-0.001438</td>\n",
       "      <td>...</td>\n",
       "      <td>NaN</td>\n",
       "      <td>NaN</td>\n",
       "      <td>NaN</td>\n",
       "      <td>NaN</td>\n",
       "      <td>NaN</td>\n",
       "      <td>NaN</td>\n",
       "      <td>NaN</td>\n",
       "      <td>1.681949e+12</td>\n",
       "      <td>1.062</td>\n",
       "      <td>3.96</td>\n",
       "    </tr>\n",
       "  </tbody>\n",
       "</table>\n",
       "<p>5 rows × 146 columns</p>\n",
       "</div>"
      ],
      "text/plain": [
       "                                event_id  index  period_id      timestamp  \\\n",
       "4   b81dcf83-537d-4f17-8f34-abb38d2dce13      5          1  1681948800194   \n",
       "6   45e144b9-05dc-4150-a4a9-c0662f6488d7      7          1  1681948801037   \n",
       "7   621b03c3-79ce-48f6-a123-4ff7f92b0201      8          1  1681948801691   \n",
       "9   de02e35f-0740-481c-8e31-d6dd268a8377     10          1  1681948802903   \n",
       "10  2f318aa7-799f-48ba-b8ca-3015600cb591     11          1  1681948803965   \n",
       "\n",
       "    minute  second  possession  obv_for_after  obv_for_before  obv_for_net  \\\n",
       "4        0       0           2       0.016658        0.006829     0.009830   \n",
       "6        0       1           2       0.017105        0.016658     0.000447   \n",
       "7        0       1           2       0.014085        0.017105    -0.003020   \n",
       "9        0       2           2       0.014085        0.014085     0.000000   \n",
       "10       0       3           2       0.012647        0.014085    -0.001438   \n",
       "\n",
       "    ...  substitution_replacement_id  substitution_replacement_name  \\\n",
       "4   ...                          NaN                            NaN   \n",
       "6   ...                          NaN                            NaN   \n",
       "7   ...                          NaN                            NaN   \n",
       "9   ...                          NaN                            NaN   \n",
       "10  ...                          NaN                            NaN   \n",
       "\n",
       "    miscontrol_aerial_won  pass_cut_back  injury_stoppage_in_chain  \\\n",
       "4                     NaN            NaN                       NaN   \n",
       "6                     NaN            NaN                       NaN   \n",
       "7                     NaN            NaN                       NaN   \n",
       "9                     NaN            NaN                       NaN   \n",
       "10                    NaN            NaN                       NaN   \n",
       "\n",
       "   shot_deflected  block_deflection  timestamp_shift timediff  time  \n",
       "4             NaN               NaN     1.681949e+12    0.194  0.19  \n",
       "6             NaN               NaN     1.681949e+12    0.000  1.04  \n",
       "7             NaN               NaN     1.681949e+12    0.654  1.69  \n",
       "9             NaN               NaN     1.681949e+12    0.000  2.90  \n",
       "10            NaN               NaN     1.681949e+12    1.062  3.96  \n",
       "\n",
       "[5 rows x 146 columns]"
      ]
     },
     "execution_count": 161,
     "metadata": {},
     "output_type": "execute_result"
    }
   ],
   "source": [
    "event_df = event_df.dropna(subset = ['obv_total_net'])\n",
    "event_df = event_df.loc[event_df['duration'] != 0]\n",
    "event_df.head()"
   ]
  },
  {
   "cell_type": "code",
   "execution_count": 162,
   "metadata": {},
   "outputs": [],
   "source": [
    "t1h = tracking_df[(tracking_df.period_id == 1) & (tracking_df.ball_owning_team_id == 'home')]\n",
    "t1a = tracking_df[(tracking_df.period_id == 1) & (tracking_df.ball_owning_team_id == 'away')]\n",
    "\n",
    "t2h = tracking_df[(tracking_df.period_id == 2) & (tracking_df.ball_owning_team_id == 'home')]\n",
    "t2a = tracking_df[(tracking_df.period_id == 2) & (tracking_df.ball_owning_team_id == 'away')]\n",
    "\n",
    "e1h = event_df[(event_df.period_id == 1) & (event_df['team_id'] == 746)]\n",
    "e1a = event_df[(event_df.period_id == 1) & (event_df['team_id'] != 746)]\n",
    "e2h = event_df[(event_df.period_id == 2) & (event_df['team_id'] == 746)]\n",
    "e2a = event_df[(event_df.period_id == 2) & (event_df['team_id'] != 746)]"
   ]
  },
  {
   "cell_type": "code",
   "execution_count": 163,
   "metadata": {},
   "outputs": [],
   "source": [
    "merged_1 = pd.merge_asof(e1h.sort_values('time'), t1h.sort_values('time_sec'), \n",
    "                           left_on='time', right_on='time_sec', \n",
    "                           direction='nearest')\n",
    "merged_2 = pd.merge_asof(e1a.sort_values('time'), t1a.sort_values('time_sec'), \n",
    "                           left_on='time', right_on='time_sec', \n",
    "                           direction='nearest')\n",
    "merged_3 = pd.merge_asof(e2h.sort_values('time'), t2h.sort_values('time_sec'), \n",
    "                           left_on='time', right_on='time_sec', \n",
    "                           direction='nearest')\n",
    "merged_4 = pd.merge_asof(e2a.sort_values('time'), t2a.sort_values('time_sec'), \n",
    "                           left_on='time', right_on='time_sec', \n",
    "                           direction='nearest')\n",
    "merged_df = pd.concat([merged_1,merged_2,merged_3,merged_4])"
   ]
  },
  {
   "cell_type": "code",
   "execution_count": 164,
   "metadata": {},
   "outputs": [],
   "source": [
    "merged_df.to_csv(\"city_tottenham_merged.csv\")"
   ]
  },
  {
   "cell_type": "code",
   "execution_count": 165,
   "metadata": {},
   "outputs": [
    {
     "data": {
      "text/plain": [
       "(1999, 151)"
      ]
     },
     "execution_count": 165,
     "metadata": {},
     "output_type": "execute_result"
    }
   ],
   "source": [
    "merged_df.shape"
   ]
  },
  {
   "cell_type": "code",
   "execution_count": null,
   "metadata": {},
   "outputs": [],
   "source": []
  }
 ],
 "metadata": {
  "kernelspec": {
   "display_name": ".venv",
   "language": "python",
   "name": "python3"
  },
  "language_info": {
   "codemirror_mode": {
    "name": "ipython",
    "version": 3
   },
   "file_extension": ".py",
   "mimetype": "text/x-python",
   "name": "python",
   "nbconvert_exporter": "python",
   "pygments_lexer": "ipython3",
   "version": "3.9.6"
  },
  "orig_nbformat": 4
 },
 "nbformat": 4,
 "nbformat_minor": 2
}
