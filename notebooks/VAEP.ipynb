{
 "cells": [
  {
   "cell_type": "code",
   "execution_count": 126,
   "metadata": {},
   "outputs": [],
   "source": [
    "import pandas as pd\n",
    "import os\n",
    "import json\n",
    "import socceraction.spadl as spadl\n",
    "import socceraction.xthreat as xthreat"
   ]
  },
  {
   "cell_type": "code",
   "execution_count": 127,
   "metadata": {},
   "outputs": [],
   "source": [
    "# Load the xT model in\n",
    "url_grid = \"https://karun.in/blog/data/open_xt_12x8_v1.json\"\n",
    "xT_model = xthreat.load_model(url_grid)"
   ]
  },
  {
   "attachments": {},
   "cell_type": "markdown",
   "metadata": {},
   "source": [
    "### Get event data from the data directory "
   ]
  },
  {
   "cell_type": "code",
   "execution_count": 134,
   "metadata": {},
   "outputs": [],
   "source": [
    "def create_statsbomb_dataset():\n",
    "    \"\"\"\n",
    "    Returns a concatenated dataset of all files and match details.\n",
    "    Assumes the data is in a folder named man-city-data in the root directory\n",
    "    \"\"\"\n",
    "    dfs = []\n",
    "    root_dir = os.getcwd().split('/')\n",
    "    root_dir = '/'.join(root_dir[:-1])\n",
    "    full_data_path = f'{root_dir}/man-city-data/StatsBomb/Data'\n",
    "    for dir in os.listdir(full_data_path):\n",
    "        if 'events' in dir:\n",
    "            dfs.append(pd.read_json(f'{full_data_path}/{dir}'))\n",
    "        \n",
    "    match_details = pd.read_json(f'{full_data_path}/FAWSL_22_23.json')\n",
    "    return dfs, match_details"
   ]
  },
  {
   "cell_type": "code",
   "execution_count": 135,
   "metadata": {},
   "outputs": [],
   "source": [
    "def normalize_dataframe(df):\n",
    "    json_data = json.loads(df.to_json(orient='records'))\n",
    "    norm_df = pd.json_normalize(json_data)\n",
    "    return norm_df"
   ]
  },
  {
   "cell_type": "code",
   "execution_count": 136,
   "metadata": {},
   "outputs": [],
   "source": [
    "def rename_cols(df):\n",
    "    new_cols = [i.replace('.', '_') for i in df.columns]\n",
    "    df.columns = new_cols\n",
    "    df = df.rename(columns={\n",
    "        'period': 'period_id',\n",
    "        'id':'event_id',\n",
    "    })\n",
    "    return df"
   ]
  },
  {
   "cell_type": "code",
   "execution_count": 137,
   "metadata": {},
   "outputs": [],
   "source": [
    "dfs, match_details = create_statsbomb_dataset()\n",
    "full_df = pd.concat(dfs)"
   ]
  },
  {
   "cell_type": "code",
   "execution_count": 121,
   "metadata": {},
   "outputs": [],
   "source": [
    "event_data = rename_cols(normalize_dataframe(full_df))\n",
    "match_details = rename_cols(normalize_dataframe(match_details))"
   ]
  },
  {
   "cell_type": "code",
   "execution_count": 114,
   "metadata": {},
   "outputs": [
    {
     "data": {
      "text/plain": [
       "Index(['match_id', 'match_date', 'kick_off', 'home_score', 'away_score',\n",
       "       'attendance', 'behind_closed_doors', 'neutral_ground', 'play_status',\n",
       "       'match_status', 'match_status_360', 'last_updated', 'last_updated_360',\n",
       "       'match_week', 'competition_competition_id', 'competition_country_name',\n",
       "       'competition_competition_name', 'season_season_id',\n",
       "       'season_season_name', 'home_team_home_team_id',\n",
       "       'home_team_home_team_name', 'home_team_home_team_gender',\n",
       "       'home_team_home_team_youth', 'home_team_home_team_group',\n",
       "       'home_team_country_id', 'home_team_country_name', 'home_team_managers',\n",
       "       'away_team_away_team_id', 'away_team_away_team_name',\n",
       "       'away_team_away_team_gender', 'away_team_away_team_youth',\n",
       "       'away_team_away_team_group', 'away_team_country_id',\n",
       "       'away_team_country_name', 'away_team_managers', 'metadata_data_version',\n",
       "       'metadata_shot_fidelity_version', 'metadata_xy_fidelity_version',\n",
       "       'competition_stage_id', 'competition_stage_name', 'stadium_id',\n",
       "       'stadium_name', 'stadium_country_id', 'stadium_country_name',\n",
       "       'referee_id', 'referee_name', 'referee_country_id',\n",
       "       'referee_country_name', 'referee'],\n",
       "      dtype='object')"
      ]
     },
     "execution_count": 114,
     "metadata": {},
     "output_type": "execute_result"
    }
   ],
   "source": [
    "match_details.columns"
   ]
  },
  {
   "attachments": {},
   "cell_type": "markdown",
   "metadata": {},
   "source": [
    "Create the columns that are needed by SPADL that are missing from the data source"
   ]
  },
  {
   "cell_type": "code",
   "execution_count": 122,
   "metadata": {},
   "outputs": [],
   "source": [
    "event_data['freeze_frame_360'] = [[] for _ in range(len(event_data))]\n",
    "event_data['visible_area_360'] = [[] for _ in range(len(event_data))]\n",
    "event_data['extra'] = [json.loads('{}') for _ in range(len(event_data))] \n",
    "event_data['game_id'] = [3852832 for _ in range(len(event_data))] "
   ]
  },
  {
   "attachments": {},
   "cell_type": "markdown",
   "metadata": {},
   "source": [
    "### Give actions a value using xT model"
   ]
  },
  {
   "cell_type": "code",
   "execution_count": 125,
   "metadata": {},
   "outputs": [
    {
     "data": {
      "text/html": [
       "<div>\n",
       "<style scoped>\n",
       "    .dataframe tbody tr th:only-of-type {\n",
       "        vertical-align: middle;\n",
       "    }\n",
       "\n",
       "    .dataframe tbody tr th {\n",
       "        vertical-align: top;\n",
       "    }\n",
       "\n",
       "    .dataframe thead th {\n",
       "        text-align: right;\n",
       "    }\n",
       "</style>\n",
       "<table border=\"1\" class=\"dataframe\">\n",
       "  <thead>\n",
       "    <tr style=\"text-align: right;\">\n",
       "      <th></th>\n",
       "      <th>game_id</th>\n",
       "      <th>original_event_id</th>\n",
       "      <th>period_id</th>\n",
       "      <th>time_seconds</th>\n",
       "      <th>team_id</th>\n",
       "      <th>player_id</th>\n",
       "      <th>start_x</th>\n",
       "      <th>start_y</th>\n",
       "      <th>end_x</th>\n",
       "      <th>end_y</th>\n",
       "      <th>type_id</th>\n",
       "      <th>result_id</th>\n",
       "      <th>bodypart_id</th>\n",
       "      <th>action_id</th>\n",
       "    </tr>\n",
       "  </thead>\n",
       "  <tbody>\n",
       "    <tr>\n",
       "      <th>0</th>\n",
       "      <td>3852832</td>\n",
       "      <td>b81dcf83-537d-4f17-8f34-abb38d2dce13</td>\n",
       "      <td>1</td>\n",
       "      <td>0.0</td>\n",
       "      <td>749</td>\n",
       "      <td>63424.0</td>\n",
       "      <td>52.058824</td>\n",
       "      <td>33.655696</td>\n",
       "      <td>52.058824</td>\n",
       "      <td>33.655696</td>\n",
       "      <td>0</td>\n",
       "      <td>1</td>\n",
       "      <td>0</td>\n",
       "      <td>0</td>\n",
       "    </tr>\n",
       "    <tr>\n",
       "      <th>1</th>\n",
       "      <td>3852832</td>\n",
       "      <td>bc23853b-0aa8-42ac-9daa-deefa00d9de2</td>\n",
       "      <td>1</td>\n",
       "      <td>0.0</td>\n",
       "      <td>2647</td>\n",
       "      <td>5058.0</td>\n",
       "      <td>52.941176</td>\n",
       "      <td>33.569620</td>\n",
       "      <td>52.941176</td>\n",
       "      <td>33.569620</td>\n",
       "      <td>0</td>\n",
       "      <td>1</td>\n",
       "      <td>0</td>\n",
       "      <td>1</td>\n",
       "    </tr>\n",
       "    <tr>\n",
       "      <th>2</th>\n",
       "      <td>3852832</td>\n",
       "      <td>27bf5806-cf6a-4595-9989-af7e6605daae</td>\n",
       "      <td>1</td>\n",
       "      <td>0.0</td>\n",
       "      <td>746</td>\n",
       "      <td>25554.0</td>\n",
       "      <td>52.058824</td>\n",
       "      <td>34.430380</td>\n",
       "      <td>52.058824</td>\n",
       "      <td>34.430380</td>\n",
       "      <td>0</td>\n",
       "      <td>1</td>\n",
       "      <td>0</td>\n",
       "      <td>2</td>\n",
       "    </tr>\n",
       "  </tbody>\n",
       "</table>\n",
       "</div>"
      ],
      "text/plain": [
       "   game_id                     original_event_id  period_id  time_seconds  \\\n",
       "0  3852832  b81dcf83-537d-4f17-8f34-abb38d2dce13          1           0.0   \n",
       "1  3852832  bc23853b-0aa8-42ac-9daa-deefa00d9de2          1           0.0   \n",
       "2  3852832  27bf5806-cf6a-4595-9989-af7e6605daae          1           0.0   \n",
       "\n",
       "   team_id  player_id    start_x    start_y      end_x      end_y  type_id  \\\n",
       "0      749    63424.0  52.058824  33.655696  52.058824  33.655696        0   \n",
       "1     2647     5058.0  52.941176  33.569620  52.941176  33.569620        0   \n",
       "2      746    25554.0  52.058824  34.430380  52.058824  34.430380        0   \n",
       "\n",
       "   result_id  bodypart_id  action_id  \n",
       "0          1            0          0  \n",
       "1          1            0          1  \n",
       "2          1            0          2  "
      ]
     },
     "execution_count": 125,
     "metadata": {},
     "output_type": "execute_result"
    }
   ],
   "source": [
    "spadl_df = spadl.statsbomb.convert_to_actions(event_data, 746)\n",
    "spadl_df.head(3)"
   ]
  },
  {
   "cell_type": "code",
   "execution_count": 128,
   "metadata": {},
   "outputs": [],
   "source": [
    "df_actions_ltr = spadl.play_left_to_right(spadl_df, 746)\n",
    "spadl_df[\"xT_value\"] = xT_model.rate(df_actions_ltr)"
   ]
  },
  {
   "cell_type": "code",
   "execution_count": 132,
   "metadata": {},
   "outputs": [
    {
     "data": {
      "text/plain": [
       "count    14598.000000\n",
       "mean         0.000243\n",
       "std          0.014347\n",
       "min         -0.245306\n",
       "25%          0.000000\n",
       "50%          0.000000\n",
       "75%          0.000000\n",
       "max          0.244970\n",
       "Name: xT_value, dtype: float64"
      ]
     },
     "execution_count": 132,
     "metadata": {},
     "output_type": "execute_result"
    }
   ],
   "source": [
    "spadl_df.xT_value.describe()"
   ]
  },
  {
   "cell_type": "code",
   "execution_count": null,
   "metadata": {},
   "outputs": [],
   "source": []
  },
  {
   "cell_type": "code",
   "execution_count": null,
   "metadata": {},
   "outputs": [],
   "source": []
  },
  {
   "cell_type": "code",
   "execution_count": 87,
   "metadata": {},
   "outputs": [],
   "source": [
    "# columns = ['counterpress', \n",
    "#            'duration',\n",
    "#            'event_id',\n",
    "#            'extra',\n",
    "#            'freeze_frame_360',\n",
    "#            'game_id',\n",
    "#            'index',\n",
    "#            'location',\n",
    "#            'minute',\n",
    "#            'period_id',\n",
    "#            'play_pattern_id',\n",
    "#            'play_pattern_name',\n",
    "#            'player_id',\n",
    "#            'player_name',\n",
    "#            'position_id',\n",
    "#            'position_name',\n",
    "#            'possession',\n",
    "#            'possession_team_id',\n",
    "#            'possession_team_name',\n",
    "#            'related_events',\n",
    "#            'second',\n",
    "#             'team_id',\n",
    "#             'team_name',\n",
    "#             'timestamp',\n",
    "#             'type_id',\n",
    "#             'type_name',\n",
    "#             'under_pressure',\n",
    "#             'visible_area_360'\n",
    "#            ]"
   ]
  },
  {
   "cell_type": "code",
   "execution_count": null,
   "metadata": {},
   "outputs": [],
   "source": []
  }
 ],
 "metadata": {
  "kernelspec": {
   "display_name": ".venv",
   "language": "python",
   "name": "python3"
  },
  "language_info": {
   "codemirror_mode": {
    "name": "ipython",
    "version": 3
   },
   "file_extension": ".py",
   "mimetype": "text/x-python",
   "name": "python",
   "nbconvert_exporter": "python",
   "pygments_lexer": "ipython3",
   "version": "3.9.11"
  },
  "orig_nbformat": 4
 },
 "nbformat": 4,
 "nbformat_minor": 2
}
